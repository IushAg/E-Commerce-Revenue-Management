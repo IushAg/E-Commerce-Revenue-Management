{
  "cells": [
    {
      "cell_type": "markdown",
      "id": "6a7d5404",
      "metadata": {
        "id": "6a7d5404"
      },
      "source": [
        "<font color='blue'>\n",
        "    <font size = 5>\n",
        "        You have been given the role of a business analyst for an E-Commerce company and have been asked to prepare a basic report on the data. Follow the steps below for preparation of the report. \n",
        "\n",
        "Before you start analysing the data, it is always a good practice to see the size of the data, its features and feature types. If the data set is big, it is not possible to print out all the records. \n",
        "    </font>\n",
        "####  Note: Use the markdown feature of Python to explain your answer.\n",
        "    "
      ]
    },
    {
      "cell_type": "markdown",
      "id": "daf5d935",
      "metadata": {
        "id": "daf5d935"
      },
      "source": [
        "## Load the necessary libraries. Import and load the dataset with a name ECom_Data ."
      ]
    },
    {
      "cell_type": "code",
      "execution_count": null,
      "id": "eec2a3b5",
      "metadata": {
        "id": "eec2a3b5"
      },
      "outputs": [],
      "source": [
        "import numpy as np\n",
        "import pandas as pd\n",
        "import matplotlib.pyplot as plt\n",
        "import seaborn as sns\n",
        "pd.options.display.max_rows = 10"
      ]
    },
    {
      "cell_type": "code",
      "execution_count": null,
      "id": "8e1fcc97",
      "metadata": {
        "id": "8e1fcc97"
      },
      "outputs": [],
      "source": [
        "# Get the Data\n",
        "\n",
        "ECom_Data=pd.read_csv(\"E-Commerce.csv\")\n"
      ]
    },
    {
      "cell_type": "markdown",
      "id": "2cf5f20f",
      "metadata": {
        "id": "2cf5f20f"
      },
      "source": [
        "<font color='blue'>\n",
        "    <font size = 5>\n",
        "        We have read the data and stored the data in \"ECom_Data\" variable </font>"
      ]
    },
    {
      "cell_type": "markdown",
      "id": "a0a4f84a",
      "metadata": {
        "id": "a0a4f84a"
      },
      "source": [
        "## Q 1.\tTo get familiar with the data\n",
        "## a)\tPrint out the first 10 and the last 10 records of the data. (2 marks)\n",
        "## b)\tHow many rows and columns are present in the dataset? Use any two different methods to extract this information. (2 + 2 + 2 marks)\n",
        "## c)\tHow many object data types are there? (1 mark)\n",
        "## d)\tIs there any Boolean data type? (1 mark) \n",
        "#### Note: Use the markdown feature of Python to explain your answer.\n"
      ]
    },
    {
      "cell_type": "code",
      "execution_count": null,
      "id": "55ad77c3",
      "metadata": {
        "id": "55ad77c3",
        "outputId": "a31a2239-7052-4c94-ab2b-d20a1032b3db"
      },
      "outputs": [
        {
          "name": "stdout",
          "output_type": "stream",
          "text": [
            "                   Customer_uniq_id Region  Order_Date Expected_Delivery_Date  \\\n",
            "0  e71017e224688489edfe856f2308806d  East   24-10-2021             25-10-2021   \n",
            "1  6286847ee2da18f587503db49511c539  East   24-10-2021             25-10-2021   \n",
            "2  0686fec9b70e5039583a38119ca0c835   West  24-10-2021             25-10-2021   \n",
            "3  ea2406dc597bee2abb6b867fa668501f   West  24-10-2021             25-10-2021   \n",
            "4  5935ed077915347dc695744df68c565c  East   03-09-2021             04-09-2021   \n",
            "5  89fcdddaad50084e395d0928a7426afe  East   03-09-2021             04-09-2021   \n",
            "6  b9b183aa18d3a721d2ac23e7184525b0  East   03-09-2021             04-09-2021   \n",
            "7  dee64864c0419bec80fbbb94d19bc40d  East   03-09-2021             04-09-2021   \n",
            "8  595f55f2c1293f07ea9ec9fa2bb39f46  East   03-09-2021             04-09-2021   \n",
            "9  547b6585272473ae006bcfbdb47b6ae0   West  26-08-2021             27-08-2021   \n",
            "\n",
            "  Delivered_Date                                       product_name  \\\n",
            "0     25-10-2021  Indcrown Net Embroidered Semi-stitched Lehenga...   \n",
            "1     25-10-2021      Shopmania Music Band A5 Notebook Spiral Bound   \n",
            "2     25-10-2021      Shopmania Music Band A5 Notebook Spiral Bound   \n",
            "3     25-10-2021  Tiara Diaries 2016-2017 Designer LA Kaarta \"TA...   \n",
            "4     04-09-2021                KAJCI Embroidered Women's Waistcoat   \n",
            "5     04-09-2021  Packman 8 x 10 inches Security Bags Without PO...   \n",
            "6     04-09-2021          Pick Pocket Embroidered Women's Waistcoat   \n",
            "7     04-09-2021                        Angelfish Silk Potali Potli   \n",
            "8     04-09-2021                                 Oye Boy's Dungaree   \n",
            "9     27-08-2021                                Nuride Canvas Shoes   \n",
            "\n",
            "    product_main_category    product_subcategory    product_category_filter  \\\n",
            "0               Clothing       Women's Clothing                Ethnic Wear    \n",
            "1      Pens & Stationery    Diaries & Notebooks                  Notebooks    \n",
            "2      Pens & Stationery    Diaries & Notebooks                  Notebooks    \n",
            "3      Pens & Stationery    Diaries & Notebooks                  Notebooks    \n",
            "4               Clothing       Women's Clothing                Formal Wear    \n",
            "5      Pens & Stationery        Office Supplies    Packaging Security Bags    \n",
            "6               Clothing       Women's Clothing                Formal Wear    \n",
            "7  Bags, Wallets & Belts                   Bags         Pouches and Potlis    \n",
            "8               Clothing         Kids' Clothing                  Boys Wear    \n",
            "9               Footwear       Women's Footwear               Casual Shoes    \n",
            "\n",
            "          product_category_subfilter product_unique ID  retail_price  \\\n",
            "0                            Fabric   FABEJX2NHNKCYHKA           999   \n",
            "1                          Designer   DIAEJ6Z8BEDTGGYY           499   \n",
            "2                          Designer   DIAEJ6Z8KQFWDEGH           499   \n",
            "3                          Designer   DIAEJ8FGHZ3K86JU          1000   \n",
            "4                        Waistcoats   WSCEG2FYDYFDSVZ6          1200   \n",
            "5   Packman Packaging Security Bags   PKBEGBTRKKHU26YQ           350   \n",
            "6                        Waistcoats   WSCEFUV4TVWT73ZB           899   \n",
            "7      Angelfish Pouches and Potlis   PPSEGFYAGD8FYUXV           999   \n",
            "8             Dungarees & Jumpsuits   DRPEF2XSFBAP4SUZ           899   \n",
            "9                            Canvas   SHOEGVQCT2ZSGUHY          1999   \n",
            "\n",
            "   discounted_price  product_rating          Brand  \\\n",
            "0               699             4.0       Indcrown   \n",
            "1               275             1.0      Shopmania   \n",
            "2               275             2.0      Shopmania   \n",
            "3               837             3.0  Tiara Diaries   \n",
            "4               699             5.0          KAJCI   \n",
            "5               298             4.0        Packman   \n",
            "6               899             1.0    Pick Pocket   \n",
            "7               399             4.0      Angelfish   \n",
            "8               764             1.0            Oye   \n",
            "9              1349             2.0         Nuride   \n",
            "\n",
            "                              product_specifications  \\\n",
            "0  {\"product_specification\"=>[{\"key\"=>\"Fabric\", \"...   \n",
            "1  {\"product_specification\"=>[{\"key\"=>\"Ruling\", \"...   \n",
            "2  {\"product_specification\"=>[{\"key\"=>\"Ruling\", \"...   \n",
            "3  {\"product_specification\"=>[{\"key\"=>\"Ruling\", \"...   \n",
            "4  {\"product_specification\"=>[{\"key\"=>\"Pattern\", ...   \n",
            "5  {\"product_specification\"=>[{\"key\"=>\"Bubble Wra...   \n",
            "6  {\"product_specification\"=>[{\"key\"=>\"Pattern\", ...   \n",
            "7  {\"product_specification\"=>[{\"key\"=>\"Closure\", ...   \n",
            "8  {\"product_specification\"=>[{\"key\"=>\"Number of ...   \n",
            "9  {\"product_specification\"=>[{\"key\"=>\"Occasion\",...   \n",
            "\n",
            "                                         description  \n",
            "0  Key Features of Indcrown Net Embroidered Semi-...  \n",
            "1  Specifications of Shopmania Music Band A5 Note...  \n",
            "2  Specifications of Shopmania Music Band A5 Note...  \n",
            "3  Specifications of Tiara Diaries 2016-2017 Desi...  \n",
            "4  Specifications of KAJCI Embroidered Women's Wa...  \n",
            "5  Key Features of Packman 8 x 10 inches Security...  \n",
            "6  Specifications of Pick Pocket Embroidered Wome...  \n",
            "7  Angelfish Silk Potali Potli (Multicolor) Price...  \n",
            "8  Specifications of Oye Boy's Dungaree Top Detai...  \n",
            "9  Key Features of Nuride Canvas Shoes Material: ...  \n"
          ]
        }
      ],
      "source": [
        "print(ECom_Data.head(10))"
      ]
    },
    {
      "cell_type": "markdown",
      "id": "0ba43d74",
      "metadata": {
        "id": "0ba43d74"
      },
      "source": [
        "#### Ans 1 a)"
      ]
    },
    {
      "cell_type": "code",
      "execution_count": null,
      "id": "6684f5a1",
      "metadata": {
        "id": "6684f5a1",
        "outputId": "2fedf81c-fb3a-4d44-c489-deb9dcada733"
      },
      "outputs": [
        {
          "name": "stdout",
          "output_type": "stream",
          "text": [
            "                      Customer_uniq_id Region  Order_Date  \\\n",
            "8896  4db03bc4ccbe216cf151b2f2b904ba3f  East   01-12-2020   \n",
            "8897  4d4d6aeb13fa253499d0dd45a5abd87e   West  01-12-2020   \n",
            "8898  ea19e7ef703293d3f6c799ca9db4642d   West  01-12-2020   \n",
            "8899  19a53a958992fb575acffb5d41e7ef9e  East   01-12-2020   \n",
            "8900  09abab80c8dfdc6f268e0a6f05a0be11  North  01-12-2020   \n",
            "8901  90d30478255e23621e8929ed15c2f6e4  South  01-12-2020   \n",
            "8902  20a73e3f41490a73ceeba5f17658db8f   West  01-12-2020   \n",
            "8903  5c1554cd45f9d538c2c6947dbdd59c75  East   01-12-2020   \n",
            "8904  6b737a4deca1ed0e56c179e66036e994   West  01-12-2020   \n",
            "8905  a5235ac28d3d5487f54025f9d6b57433  North  01-12-2020   \n",
            "\n",
            "     Expected_Delivery_Date Delivered_Date  \\\n",
            "8896             04-12-2020     04-12-2020   \n",
            "8897             04-12-2020     04-12-2020   \n",
            "8898             04-12-2020     04-12-2020   \n",
            "8899             04-12-2020     04-12-2020   \n",
            "8900             04-12-2020     04-12-2020   \n",
            "8901             04-12-2020     04-12-2020   \n",
            "8902             04-12-2020     04-12-2020   \n",
            "8903             04-12-2020     04-12-2020   \n",
            "8904             04-12-2020     04-12-2020   \n",
            "8905             04-12-2020     04-12-2020   \n",
            "\n",
            "                                           product_name product_main_category  \\\n",
            "8896                           Luca Fashion Girls Heels             Footwear    \n",
            "8897                            Shoetopia Girls Sandals             Footwear    \n",
            "8898                        SMART TRADERS Girls Sandals             Footwear    \n",
            "8899                                  Beanz Girls Flats             Footwear    \n",
            "8900                       Nova KT 728S Electric Kettle       Home & Kitchen    \n",
            "8901  Sinina Chanderi Embroidered Salwar Suit Dupatt...             Clothing    \n",
            "8902  Aarushi Fashion Chanderi Embroidered Salwar Su...             Clothing    \n",
            "8903  Ambika Lahenga Embroidered Lehenga, Choli and ...             Clothing    \n",
            "8904  Sinina Chanderi Embroidered Salwar Suit Dupatt...             Clothing    \n",
            "8905  Aarushi Fashion Silk Striped Salwar Suit Dupat...             Clothing    \n",
            "\n",
            "            product_subcategory                product_category_filter  \\\n",
            "8896   Kids' & Infant Footwear                              For Girls    \n",
            "8897   Kids' & Infant Footwear                              For Girls    \n",
            "8898   Kids' & Infant Footwear                              For Girls    \n",
            "8899   Kids' & Infant Footwear                              For Girls    \n",
            "8900        Kitchen Appliances    Electric Jug(heater)/Travel Kettles    \n",
            "8901          Women's Clothing                            Ethnic Wear    \n",
            "8902          Women's Clothing                            Ethnic Wear    \n",
            "8903          Women's Clothing                            Ethnic Wear    \n",
            "8904          Women's Clothing                            Ethnic Wear    \n",
            "8905          Women's Clothing                            Ethnic Wear    \n",
            "\n",
            "                      product_category_subfilter product_unique ID  \\\n",
            "8896                                    Sandals   SNDEHG3DNVBFGAT5   \n",
            "8897                                    Sandals   SNDEG7DRWSX8HFXZ   \n",
            "8898                                    Sandals   SNDEG7MZHHKZ58D2   \n",
            "8899                                    Sandals   SNDEG7DYVFWHZBC4   \n",
            "8900   Nova Electric Jug(heater)/Travel Kettles   EKTDG5C5QSADZZ8J   \n",
            "8901                                     Fabric   FABEGGHHDFMY8BZU   \n",
            "8902                                     Fabric   FABEG8GFDUWRSNU3   \n",
            "8903                             Lehenga Cholis   LEHEGGEHYN4G2RPW   \n",
            "8904                                     Fabric   FABEGGHHGSVCHGFV   \n",
            "8905                                     Fabric   FABEG8GYDAABECZH   \n",
            "\n",
            "      retail_price  discounted_price  product_rating            Brand  \\\n",
            "8896           999               499             4.0     Luca Fashion   \n",
            "8897           499               399             4.0        Shoetopia   \n",
            "8898           999               499             5.0    SMART TRADERS   \n",
            "8899          1299              1299             3.0            Beanz   \n",
            "8900          3195               699             3.6             Nova   \n",
            "8901          2980              1490             3.0           Sinina   \n",
            "8902          2600              1300             1.0  Aarushi Fashion   \n",
            "8903         39992             24995             1.0   Ambika Lahenga   \n",
            "8904          2000              1000             3.0           Sinina   \n",
            "8905          2800              1350             4.0  Aarushi Fashion   \n",
            "\n",
            "                                 product_specifications  \\\n",
            "8896  {\"product_specification\"=>[{\"key\"=>\"Occasion\",...   \n",
            "8897  {\"product_specification\"=>[{\"key\"=>\"Ideal For\"...   \n",
            "8898  {\"product_specification\"=>[{\"key\"=>\"Ideal For\"...   \n",
            "8899  {\"product_specification\"=>[{\"key\"=>\"Occasion\",...   \n",
            "8900  {\"product_specification\"=>[{\"key\"=>\"Brand\", \"v...   \n",
            "8901  {\"product_specification\"=>[{\"key\"=>\"Fabric\", \"...   \n",
            "8902  {\"product_specification\"=>[{\"key\"=>\"Fabric\", \"...   \n",
            "8903  {\"product_specification\"=>[{\"key\"=>\"Fabric\", \"...   \n",
            "8904  {\"product_specification\"=>[{\"key\"=>\"Fabric\", \"...   \n",
            "8905  {\"product_specification\"=>[{\"key\"=>\"Fabric\", \"...   \n",
            "\n",
            "                                            description  \n",
            "8896  Key Features of Luca Fashion Girls Heels Occas...  \n",
            "8897  Key Features of Shoetopia Girls Sandals Flats ...  \n",
            "8898  Key Features of SMART TRADERS Girls Sandals Oc...  \n",
            "8899  Key Features of Beanz Girls Flats Occasion: Ca...  \n",
            "8900  Specifications of Nova KT 728S Electric Kettle...  \n",
            "8901  Key Features of Sinina Chanderi Embroidered Sa...  \n",
            "8902  Key Features of Aarushi Fashion Chanderi Embro...  \n",
            "8903  Key Features of Ambika Lahenga Embroidered Leh...  \n",
            "8904  Key Features of Sinina Chanderi Embroidered Sa...  \n",
            "8905  Key Features of Aarushi Fashion Silk Striped S...  \n"
          ]
        }
      ],
      "source": [
        "print(ECom_Data.tail(10))"
      ]
    },
    {
      "cell_type": "markdown",
      "id": "48baeda6",
      "metadata": {
        "id": "48baeda6"
      },
      "source": [
        "#### Ans 1 b)"
      ]
    },
    {
      "cell_type": "code",
      "execution_count": null,
      "id": "0ac3ef5d",
      "metadata": {
        "id": "0ac3ef5d",
        "outputId": "95f2a766-f248-4c30-961c-0cd259791336"
      },
      "outputs": [
        {
          "data": {
            "text/plain": [
              "(8906, 17)"
            ]
          },
          "execution_count": 5,
          "metadata": {},
          "output_type": "execute_result"
        }
      ],
      "source": [
        "#first way\n",
        "ECom_Data.shape"
      ]
    },
    {
      "cell_type": "code",
      "execution_count": null,
      "id": "e8c5653b",
      "metadata": {
        "id": "e8c5653b",
        "outputId": "05a24262-c34f-4af4-e743-9e7c64cf979c"
      },
      "outputs": [
        {
          "name": "stdout",
          "output_type": "stream",
          "text": [
            "<class 'pandas.core.frame.DataFrame'>\n",
            "RangeIndex: 8906 entries, 0 to 8905\n",
            "Data columns (total 17 columns):\n",
            " #   Column                      Non-Null Count  Dtype  \n",
            "---  ------                      --------------  -----  \n",
            " 0   Customer_uniq_id            8906 non-null   object \n",
            " 1   Region                      8906 non-null   object \n",
            " 2   Order_Date                  8906 non-null   object \n",
            " 3   Expected_Delivery_Date      8906 non-null   object \n",
            " 4   Delivered_Date              8906 non-null   object \n",
            " 5   product_name                8906 non-null   object \n",
            " 6   product_main_category       8906 non-null   object \n",
            " 7   product_subcategory         8906 non-null   object \n",
            " 8   product_category_filter     8906 non-null   object \n",
            " 9   product_category_subfilter  8906 non-null   object \n",
            " 10  product_unique ID           8906 non-null   object \n",
            " 11  retail_price                8906 non-null   int64  \n",
            " 12  discounted_price            8906 non-null   int64  \n",
            " 13  product_rating              8906 non-null   float64\n",
            " 14  Brand                       8906 non-null   object \n",
            " 15  product_specifications      8906 non-null   object \n",
            " 16  description                 8906 non-null   object \n",
            "dtypes: float64(1), int64(2), object(14)\n",
            "memory usage: 1.2+ MB\n"
          ]
        }
      ],
      "source": [
        "# second way\n",
        "ECom_Data.info()"
      ]
    },
    {
      "cell_type": "markdown",
      "id": "41b8a1f6",
      "metadata": {
        "id": "41b8a1f6"
      },
      "source": [
        "The dataset have 8906 rows and 17 columns"
      ]
    },
    {
      "cell_type": "markdown",
      "id": "6aaa54a0",
      "metadata": {
        "id": "6aaa54a0"
      },
      "source": [
        "#### Ans  1 c)"
      ]
    },
    {
      "cell_type": "code",
      "execution_count": null,
      "id": "115627b2",
      "metadata": {
        "id": "115627b2",
        "outputId": "84e3a1fd-266b-4151-dc7f-7aeb8fd8e95a"
      },
      "outputs": [
        {
          "name": "stdout",
          "output_type": "stream",
          "text": [
            "<class 'pandas.core.frame.DataFrame'>\n",
            "RangeIndex: 8906 entries, 0 to 8905\n",
            "Data columns (total 17 columns):\n",
            " #   Column                      Non-Null Count  Dtype  \n",
            "---  ------                      --------------  -----  \n",
            " 0   Customer_uniq_id            8906 non-null   object \n",
            " 1   Region                      8906 non-null   object \n",
            " 2   Order_Date                  8906 non-null   object \n",
            " 3   Expected_Delivery_Date      8906 non-null   object \n",
            " 4   Delivered_Date              8906 non-null   object \n",
            " 5   product_name                8906 non-null   object \n",
            " 6   product_main_category       8906 non-null   object \n",
            " 7   product_subcategory         8906 non-null   object \n",
            " 8   product_category_filter     8906 non-null   object \n",
            " 9   product_category_subfilter  8906 non-null   object \n",
            " 10  product_unique ID           8906 non-null   object \n",
            " 11  retail_price                8906 non-null   int64  \n",
            " 12  discounted_price            8906 non-null   int64  \n",
            " 13  product_rating              8906 non-null   float64\n",
            " 14  Brand                       8906 non-null   object \n",
            " 15  product_specifications      8906 non-null   object \n",
            " 16  description                 8906 non-null   object \n",
            "dtypes: float64(1), int64(2), object(14)\n",
            "memory usage: 1.2+ MB\n"
          ]
        }
      ],
      "source": [
        "ECom_Data.info()"
      ]
    },
    {
      "cell_type": "markdown",
      "id": "0375fa47",
      "metadata": {
        "id": "0375fa47"
      },
      "source": [
        "### There are 14 types of Object data types."
      ]
    },
    {
      "cell_type": "markdown",
      "id": "5e63573c",
      "metadata": {
        "id": "5e63573c"
      },
      "source": [
        "### Ans 1 d)"
      ]
    },
    {
      "cell_type": "markdown",
      "id": "792002eb",
      "metadata": {
        "id": "792002eb"
      },
      "source": [
        "### There is no Boolean data type."
      ]
    },
    {
      "cell_type": "markdown",
      "id": "cc5d76f1",
      "metadata": {
        "id": "cc5d76f1"
      },
      "source": [
        "<font color='blue'>\n",
        "    <font size = 5>\n",
        " Once you are familiar with the data, you may decide that not all features are of use to you and you may want to delete the non-informative features (columns)</font>"
      ]
    },
    {
      "cell_type": "markdown",
      "id": "90db65ce",
      "metadata": {
        "id": "90db65ce"
      },
      "source": [
        "## Q 2.\tEliminating the non-informative columns.\n",
        "## a)\tDrop the columns product_specifications and description. (2 marks) \n",
        "## b)\tWhich method or function is used to permanently delete the columns mentioned in part (a)? Write the code explicitly (2 marks)\n",
        "### Note: Use the markdown feature of Python to explain your answer.\n"
      ]
    },
    {
      "cell_type": "markdown",
      "id": "e0e7e762",
      "metadata": {
        "id": "e0e7e762"
      },
      "source": [
        "### Ans 2 a)"
      ]
    },
    {
      "cell_type": "code",
      "execution_count": null,
      "id": "35ad0821",
      "metadata": {
        "id": "35ad0821",
        "outputId": "68b8b57d-5b55-4ff2-89f2-9820a007d261"
      },
      "outputs": [
        {
          "data": {
            "text/html": [
              "<div>\n",
              "<style scoped>\n",
              "    .dataframe tbody tr th:only-of-type {\n",
              "        vertical-align: middle;\n",
              "    }\n",
              "\n",
              "    .dataframe tbody tr th {\n",
              "        vertical-align: top;\n",
              "    }\n",
              "\n",
              "    .dataframe thead th {\n",
              "        text-align: right;\n",
              "    }\n",
              "</style>\n",
              "<table border=\"1\" class=\"dataframe\">\n",
              "  <thead>\n",
              "    <tr style=\"text-align: right;\">\n",
              "      <th></th>\n",
              "      <th>Customer_uniq_id</th>\n",
              "      <th>Region</th>\n",
              "      <th>Order_Date</th>\n",
              "      <th>Expected_Delivery_Date</th>\n",
              "      <th>Delivered_Date</th>\n",
              "      <th>product_name</th>\n",
              "      <th>product_main_category</th>\n",
              "      <th>product_subcategory</th>\n",
              "      <th>product_category_filter</th>\n",
              "      <th>product_category_subfilter</th>\n",
              "      <th>product_unique ID</th>\n",
              "      <th>retail_price</th>\n",
              "      <th>discounted_price</th>\n",
              "      <th>product_rating</th>\n",
              "      <th>Brand</th>\n",
              "    </tr>\n",
              "  </thead>\n",
              "  <tbody>\n",
              "    <tr>\n",
              "      <th>0</th>\n",
              "      <td>e71017e224688489edfe856f2308806d</td>\n",
              "      <td>East</td>\n",
              "      <td>24-10-2021</td>\n",
              "      <td>25-10-2021</td>\n",
              "      <td>25-10-2021</td>\n",
              "      <td>Indcrown Net Embroidered Semi-stitched Lehenga...</td>\n",
              "      <td>Clothing</td>\n",
              "      <td>Women's Clothing</td>\n",
              "      <td>Ethnic Wear</td>\n",
              "      <td>Fabric</td>\n",
              "      <td>FABEJX2NHNKCYHKA</td>\n",
              "      <td>999</td>\n",
              "      <td>699</td>\n",
              "      <td>4.0</td>\n",
              "      <td>Indcrown</td>\n",
              "    </tr>\n",
              "    <tr>\n",
              "      <th>1</th>\n",
              "      <td>6286847ee2da18f587503db49511c539</td>\n",
              "      <td>East</td>\n",
              "      <td>24-10-2021</td>\n",
              "      <td>25-10-2021</td>\n",
              "      <td>25-10-2021</td>\n",
              "      <td>Shopmania Music Band A5 Notebook Spiral Bound</td>\n",
              "      <td>Pens &amp; Stationery</td>\n",
              "      <td>Diaries &amp; Notebooks</td>\n",
              "      <td>Notebooks</td>\n",
              "      <td>Designer</td>\n",
              "      <td>DIAEJ6Z8BEDTGGYY</td>\n",
              "      <td>499</td>\n",
              "      <td>275</td>\n",
              "      <td>1.0</td>\n",
              "      <td>Shopmania</td>\n",
              "    </tr>\n",
              "    <tr>\n",
              "      <th>2</th>\n",
              "      <td>0686fec9b70e5039583a38119ca0c835</td>\n",
              "      <td>West</td>\n",
              "      <td>24-10-2021</td>\n",
              "      <td>25-10-2021</td>\n",
              "      <td>25-10-2021</td>\n",
              "      <td>Shopmania Music Band A5 Notebook Spiral Bound</td>\n",
              "      <td>Pens &amp; Stationery</td>\n",
              "      <td>Diaries &amp; Notebooks</td>\n",
              "      <td>Notebooks</td>\n",
              "      <td>Designer</td>\n",
              "      <td>DIAEJ6Z8KQFWDEGH</td>\n",
              "      <td>499</td>\n",
              "      <td>275</td>\n",
              "      <td>2.0</td>\n",
              "      <td>Shopmania</td>\n",
              "    </tr>\n",
              "    <tr>\n",
              "      <th>3</th>\n",
              "      <td>ea2406dc597bee2abb6b867fa668501f</td>\n",
              "      <td>West</td>\n",
              "      <td>24-10-2021</td>\n",
              "      <td>25-10-2021</td>\n",
              "      <td>25-10-2021</td>\n",
              "      <td>Tiara Diaries 2016-2017 Designer LA Kaarta \"TA...</td>\n",
              "      <td>Pens &amp; Stationery</td>\n",
              "      <td>Diaries &amp; Notebooks</td>\n",
              "      <td>Notebooks</td>\n",
              "      <td>Designer</td>\n",
              "      <td>DIAEJ8FGHZ3K86JU</td>\n",
              "      <td>1000</td>\n",
              "      <td>837</td>\n",
              "      <td>3.0</td>\n",
              "      <td>Tiara Diaries</td>\n",
              "    </tr>\n",
              "    <tr>\n",
              "      <th>4</th>\n",
              "      <td>5935ed077915347dc695744df68c565c</td>\n",
              "      <td>East</td>\n",
              "      <td>03-09-2021</td>\n",
              "      <td>04-09-2021</td>\n",
              "      <td>04-09-2021</td>\n",
              "      <td>KAJCI Embroidered Women's Waistcoat</td>\n",
              "      <td>Clothing</td>\n",
              "      <td>Women's Clothing</td>\n",
              "      <td>Formal Wear</td>\n",
              "      <td>Waistcoats</td>\n",
              "      <td>WSCEG2FYDYFDSVZ6</td>\n",
              "      <td>1200</td>\n",
              "      <td>699</td>\n",
              "      <td>5.0</td>\n",
              "      <td>KAJCI</td>\n",
              "    </tr>\n",
              "    <tr>\n",
              "      <th>...</th>\n",
              "      <td>...</td>\n",
              "      <td>...</td>\n",
              "      <td>...</td>\n",
              "      <td>...</td>\n",
              "      <td>...</td>\n",
              "      <td>...</td>\n",
              "      <td>...</td>\n",
              "      <td>...</td>\n",
              "      <td>...</td>\n",
              "      <td>...</td>\n",
              "      <td>...</td>\n",
              "      <td>...</td>\n",
              "      <td>...</td>\n",
              "      <td>...</td>\n",
              "      <td>...</td>\n",
              "    </tr>\n",
              "    <tr>\n",
              "      <th>8901</th>\n",
              "      <td>90d30478255e23621e8929ed15c2f6e4</td>\n",
              "      <td>South</td>\n",
              "      <td>01-12-2020</td>\n",
              "      <td>04-12-2020</td>\n",
              "      <td>04-12-2020</td>\n",
              "      <td>Sinina Chanderi Embroidered Salwar Suit Dupatt...</td>\n",
              "      <td>Clothing</td>\n",
              "      <td>Women's Clothing</td>\n",
              "      <td>Ethnic Wear</td>\n",
              "      <td>Fabric</td>\n",
              "      <td>FABEGGHHDFMY8BZU</td>\n",
              "      <td>2980</td>\n",
              "      <td>1490</td>\n",
              "      <td>3.0</td>\n",
              "      <td>Sinina</td>\n",
              "    </tr>\n",
              "    <tr>\n",
              "      <th>8902</th>\n",
              "      <td>20a73e3f41490a73ceeba5f17658db8f</td>\n",
              "      <td>West</td>\n",
              "      <td>01-12-2020</td>\n",
              "      <td>04-12-2020</td>\n",
              "      <td>04-12-2020</td>\n",
              "      <td>Aarushi Fashion Chanderi Embroidered Salwar Su...</td>\n",
              "      <td>Clothing</td>\n",
              "      <td>Women's Clothing</td>\n",
              "      <td>Ethnic Wear</td>\n",
              "      <td>Fabric</td>\n",
              "      <td>FABEG8GFDUWRSNU3</td>\n",
              "      <td>2600</td>\n",
              "      <td>1300</td>\n",
              "      <td>1.0</td>\n",
              "      <td>Aarushi Fashion</td>\n",
              "    </tr>\n",
              "    <tr>\n",
              "      <th>8903</th>\n",
              "      <td>5c1554cd45f9d538c2c6947dbdd59c75</td>\n",
              "      <td>East</td>\n",
              "      <td>01-12-2020</td>\n",
              "      <td>04-12-2020</td>\n",
              "      <td>04-12-2020</td>\n",
              "      <td>Ambika Lahenga Embroidered Lehenga, Choli and ...</td>\n",
              "      <td>Clothing</td>\n",
              "      <td>Women's Clothing</td>\n",
              "      <td>Ethnic Wear</td>\n",
              "      <td>Lehenga Cholis</td>\n",
              "      <td>LEHEGGEHYN4G2RPW</td>\n",
              "      <td>39992</td>\n",
              "      <td>24995</td>\n",
              "      <td>1.0</td>\n",
              "      <td>Ambika Lahenga</td>\n",
              "    </tr>\n",
              "    <tr>\n",
              "      <th>8904</th>\n",
              "      <td>6b737a4deca1ed0e56c179e66036e994</td>\n",
              "      <td>West</td>\n",
              "      <td>01-12-2020</td>\n",
              "      <td>04-12-2020</td>\n",
              "      <td>04-12-2020</td>\n",
              "      <td>Sinina Chanderi Embroidered Salwar Suit Dupatt...</td>\n",
              "      <td>Clothing</td>\n",
              "      <td>Women's Clothing</td>\n",
              "      <td>Ethnic Wear</td>\n",
              "      <td>Fabric</td>\n",
              "      <td>FABEGGHHGSVCHGFV</td>\n",
              "      <td>2000</td>\n",
              "      <td>1000</td>\n",
              "      <td>3.0</td>\n",
              "      <td>Sinina</td>\n",
              "    </tr>\n",
              "    <tr>\n",
              "      <th>8905</th>\n",
              "      <td>a5235ac28d3d5487f54025f9d6b57433</td>\n",
              "      <td>North</td>\n",
              "      <td>01-12-2020</td>\n",
              "      <td>04-12-2020</td>\n",
              "      <td>04-12-2020</td>\n",
              "      <td>Aarushi Fashion Silk Striped Salwar Suit Dupat...</td>\n",
              "      <td>Clothing</td>\n",
              "      <td>Women's Clothing</td>\n",
              "      <td>Ethnic Wear</td>\n",
              "      <td>Fabric</td>\n",
              "      <td>FABEG8GYDAABECZH</td>\n",
              "      <td>2800</td>\n",
              "      <td>1350</td>\n",
              "      <td>4.0</td>\n",
              "      <td>Aarushi Fashion</td>\n",
              "    </tr>\n",
              "  </tbody>\n",
              "</table>\n",
              "<p>8906 rows × 15 columns</p>\n",
              "</div>"
            ],
            "text/plain": [
              "                      Customer_uniq_id Region  Order_Date  \\\n",
              "0     e71017e224688489edfe856f2308806d  East   24-10-2021   \n",
              "1     6286847ee2da18f587503db49511c539  East   24-10-2021   \n",
              "2     0686fec9b70e5039583a38119ca0c835   West  24-10-2021   \n",
              "3     ea2406dc597bee2abb6b867fa668501f   West  24-10-2021   \n",
              "4     5935ed077915347dc695744df68c565c  East   03-09-2021   \n",
              "...                                ...    ...         ...   \n",
              "8901  90d30478255e23621e8929ed15c2f6e4  South  01-12-2020   \n",
              "8902  20a73e3f41490a73ceeba5f17658db8f   West  01-12-2020   \n",
              "8903  5c1554cd45f9d538c2c6947dbdd59c75  East   01-12-2020   \n",
              "8904  6b737a4deca1ed0e56c179e66036e994   West  01-12-2020   \n",
              "8905  a5235ac28d3d5487f54025f9d6b57433  North  01-12-2020   \n",
              "\n",
              "     Expected_Delivery_Date Delivered_Date  \\\n",
              "0                25-10-2021     25-10-2021   \n",
              "1                25-10-2021     25-10-2021   \n",
              "2                25-10-2021     25-10-2021   \n",
              "3                25-10-2021     25-10-2021   \n",
              "4                04-09-2021     04-09-2021   \n",
              "...                     ...            ...   \n",
              "8901             04-12-2020     04-12-2020   \n",
              "8902             04-12-2020     04-12-2020   \n",
              "8903             04-12-2020     04-12-2020   \n",
              "8904             04-12-2020     04-12-2020   \n",
              "8905             04-12-2020     04-12-2020   \n",
              "\n",
              "                                           product_name product_main_category  \\\n",
              "0     Indcrown Net Embroidered Semi-stitched Lehenga...             Clothing    \n",
              "1         Shopmania Music Band A5 Notebook Spiral Bound    Pens & Stationery    \n",
              "2         Shopmania Music Band A5 Notebook Spiral Bound    Pens & Stationery    \n",
              "3     Tiara Diaries 2016-2017 Designer LA Kaarta \"TA...    Pens & Stationery    \n",
              "4                   KAJCI Embroidered Women's Waistcoat             Clothing    \n",
              "...                                                 ...                   ...   \n",
              "8901  Sinina Chanderi Embroidered Salwar Suit Dupatt...             Clothing    \n",
              "8902  Aarushi Fashion Chanderi Embroidered Salwar Su...             Clothing    \n",
              "8903  Ambika Lahenga Embroidered Lehenga, Choli and ...             Clothing    \n",
              "8904  Sinina Chanderi Embroidered Salwar Suit Dupatt...             Clothing    \n",
              "8905  Aarushi Fashion Silk Striped Salwar Suit Dupat...             Clothing    \n",
              "\n",
              "        product_subcategory product_category_filter  \\\n",
              "0         Women's Clothing             Ethnic Wear    \n",
              "1      Diaries & Notebooks               Notebooks    \n",
              "2      Diaries & Notebooks               Notebooks    \n",
              "3      Diaries & Notebooks               Notebooks    \n",
              "4         Women's Clothing             Formal Wear    \n",
              "...                     ...                     ...   \n",
              "8901      Women's Clothing             Ethnic Wear    \n",
              "8902      Women's Clothing             Ethnic Wear    \n",
              "8903      Women's Clothing             Ethnic Wear    \n",
              "8904      Women's Clothing             Ethnic Wear    \n",
              "8905      Women's Clothing             Ethnic Wear    \n",
              "\n",
              "     product_category_subfilter product_unique ID  retail_price  \\\n",
              "0                       Fabric   FABEJX2NHNKCYHKA           999   \n",
              "1                     Designer   DIAEJ6Z8BEDTGGYY           499   \n",
              "2                     Designer   DIAEJ6Z8KQFWDEGH           499   \n",
              "3                     Designer   DIAEJ8FGHZ3K86JU          1000   \n",
              "4                   Waistcoats   WSCEG2FYDYFDSVZ6          1200   \n",
              "...                         ...               ...           ...   \n",
              "8901                    Fabric   FABEGGHHDFMY8BZU          2980   \n",
              "8902                    Fabric   FABEG8GFDUWRSNU3          2600   \n",
              "8903            Lehenga Cholis   LEHEGGEHYN4G2RPW         39992   \n",
              "8904                    Fabric   FABEGGHHGSVCHGFV          2000   \n",
              "8905                    Fabric   FABEG8GYDAABECZH          2800   \n",
              "\n",
              "      discounted_price  product_rating            Brand  \n",
              "0                  699             4.0         Indcrown  \n",
              "1                  275             1.0        Shopmania  \n",
              "2                  275             2.0        Shopmania  \n",
              "3                  837             3.0    Tiara Diaries  \n",
              "4                  699             5.0            KAJCI  \n",
              "...                ...             ...              ...  \n",
              "8901              1490             3.0           Sinina  \n",
              "8902              1300             1.0  Aarushi Fashion  \n",
              "8903             24995             1.0   Ambika Lahenga  \n",
              "8904              1000             3.0           Sinina  \n",
              "8905              1350             4.0  Aarushi Fashion  \n",
              "\n",
              "[8906 rows x 15 columns]"
            ]
          },
          "execution_count": 10,
          "metadata": {},
          "output_type": "execute_result"
        }
      ],
      "source": [
        "ECom_Data.drop([\"product_specifications\",\"description\"],axis=1)"
      ]
    },
    {
      "cell_type": "markdown",
      "id": "e6159f6a",
      "metadata": {
        "id": "e6159f6a"
      },
      "source": [
        "### Ans 2 b)"
      ]
    },
    {
      "cell_type": "code",
      "execution_count": null,
      "id": "47a63265",
      "metadata": {
        "id": "47a63265"
      },
      "outputs": [],
      "source": [
        "ECom_Data.drop(['product_specifications','description'],axis=1, inplace=True)"
      ]
    },
    {
      "cell_type": "markdown",
      "id": "40fb5e90",
      "metadata": {
        "id": "40fb5e90"
      },
      "source": [
        "### We use \"inplace = True\" to permanently delete the columns\n"
      ]
    },
    {
      "cell_type": "markdown",
      "id": "cde421e0",
      "metadata": {
        "id": "cde421e0"
      },
      "source": [
        "<font color='blue'>\n",
        "    <font size = 5>\n",
        "        The next steps in this project involves summarization of data at various levels and visualization. Apparently, such simple steps are very useful to get an overall sense of the data.\n",
        "    </font>"
      ]
    },
    {
      "cell_type": "markdown",
      "id": "41c30ad7",
      "metadata": {
        "id": "41c30ad7"
      },
      "source": [
        "## Q 3. Here we summarize the data at Brand level.\n",
        "## a) How many unique Brand are there? (2 marks)\n",
        "## b) Note that each Brand contains multiple products. Show the average product_rating within each Brand (2 marks)\n"
      ]
    },
    {
      "cell_type": "markdown",
      "id": "beb3f83f",
      "metadata": {
        "id": "beb3f83f"
      },
      "source": [
        "### Ans 3 a)"
      ]
    },
    {
      "cell_type": "code",
      "execution_count": null,
      "id": "41dcb79f",
      "metadata": {
        "id": "41dcb79f",
        "outputId": "88688a39-5362-451a-df8e-9ee3db2e08e4"
      },
      "outputs": [
        {
          "data": {
            "text/plain": [
              "Allure Auto        469\n",
              "Regular            299\n",
              "Slim               267\n",
              "TheLostPuppy       229\n",
              "Black              147\n",
              "                  ... \n",
              "Cello Furniture      1\n",
              "Schwarzkopf          1\n",
              "Flair                1\n",
              "Ruby                 1\n",
              "Ambika Lahenga       1\n",
              "Name: Brand, Length: 2571, dtype: int64"
            ]
          },
          "execution_count": 14,
          "metadata": {},
          "output_type": "execute_result"
        }
      ],
      "source": [
        "ECom_Data['Brand'].unique()\n",
        "ECom_Data['Brand'].value_counts()"
      ]
    },
    {
      "cell_type": "markdown",
      "id": "a6a986ff",
      "metadata": {
        "id": "a6a986ff"
      },
      "source": [
        "OR"
      ]
    },
    {
      "cell_type": "code",
      "execution_count": null,
      "id": "deedd9eb",
      "metadata": {
        "id": "deedd9eb",
        "outputId": "af9f74d0-ffb2-491d-bf90-a899c3715089"
      },
      "outputs": [
        {
          "data": {
            "text/plain": [
              "2571"
            ]
          },
          "execution_count": 15,
          "metadata": {},
          "output_type": "execute_result"
        }
      ],
      "source": [
        "ECom_Data['Brand'].nunique()"
      ]
    },
    {
      "cell_type": "markdown",
      "id": "814bde62",
      "metadata": {
        "id": "814bde62"
      },
      "source": [
        "### There are 2571 unique Brands."
      ]
    },
    {
      "cell_type": "markdown",
      "id": "5083d866",
      "metadata": {
        "id": "5083d866"
      },
      "source": [
        "### Ans 3 b)"
      ]
    },
    {
      "cell_type": "code",
      "execution_count": null,
      "id": "10018c2c",
      "metadata": {
        "id": "10018c2c",
        "outputId": "205e1120-1dba-451c-84f7-4c4ab5dc05f2"
      },
      "outputs": [
        {
          "data": {
            "text/plain": [
              "Brand\n",
              "1OAK            1.500000\n",
              "3A AUTOCARE     3.268293\n",
              "3D Mat          3.000000\n",
              "3kFactory       2.000000\n",
              "4D              3.600000\n",
              "                  ...   \n",
              "youniqueshop    2.000000\n",
              "zDelhi.com      5.000000\n",
              "zaidis          4.000000\n",
              "zasmina         4.500000\n",
              " Tarkan         5.000000\n",
              "Name: product_rating, Length: 2571, dtype: float64"
            ]
          },
          "execution_count": 16,
          "metadata": {},
          "output_type": "execute_result"
        }
      ],
      "source": [
        "ECom_Data.groupby(['Brand'])['product_rating'].mean()"
      ]
    },
    {
      "cell_type": "markdown",
      "id": "bbf162af",
      "metadata": {
        "id": "bbf162af"
      },
      "source": [
        "## Q 4. Next we study the main categories of the products.\n",
        "\n",
        "## a) Create an appropriate plot to show the count of items ordered for each product_main_category. (6 marks).\n",
        "\n",
        "### Hint: Create a bar chart titled \"Product Category type\" where product_main_category are on x-axis and counts are on y-axis.\n",
        "\n",
        "### Note: Both axis labels, i.e. the names of the product_main_category and counts must be clearly legible. \n",
        "\n",
        "## b) From the plot identify for which two product_main_category(s)  maximum and minimum orders were placed. (2 marks)\n",
        "\n",
        "## c) Write code to print out the top 5 product_main_category(s)  in descending order? (3 marks"
      ]
    },
    {
      "cell_type": "markdown",
      "id": "7124f65a",
      "metadata": {
        "id": "7124f65a"
      },
      "source": [
        "### Ans 4 a)"
      ]
    },
    {
      "cell_type": "code",
      "execution_count": null,
      "id": "5c65c13f",
      "metadata": {
        "id": "5c65c13f",
        "outputId": "b575b10e-d1ae-4313-bb54-377356740dd3"
      },
      "outputs": [
        {
          "data": {
            "text/plain": [
              "Clothing                       2943\n",
              "Mobiles & Accessories          1084\n",
              "Automotive                     1001\n",
              "Home Decor & Festive Needs      727\n",
              "Computers                       558\n",
              "                               ... \n",
              "Pet Supplies                     20\n",
              "Home Entertainment               17\n",
              "Household Supplies                4\n",
              "Food & Nutrition                  2\n",
              "Wearable Smart Devices            1\n",
              "Name: product_main_category, Length: 26, dtype: int64"
            ]
          },
          "execution_count": 22,
          "metadata": {},
          "output_type": "execute_result"
        }
      ],
      "source": [
        "ECom_Data['product_main_category'].value_counts()"
      ]
    },
    {
      "cell_type": "code",
      "execution_count": null,
      "id": "7130a139",
      "metadata": {
        "id": "7130a139",
        "outputId": "303dfa8a-315c-4e0c-d9fb-bd555fabbfd4"
      },
      "outputs": [
        {
          "name": "stderr",
          "output_type": "stream",
          "text": [
            "C:\\Users\\Gulshan\\anaconda3\\lib\\site-packages\\seaborn\\_decorators.py:36: FutureWarning: Pass the following variable as a keyword arg: x. From version 0.12, the only valid positional argument will be `data`, and passing other arguments without an explicit keyword will result in an error or misinterpretation.\n",
            "  warnings.warn(\n"
          ]
        },
        {
          "data": {
            "image/png": "[encoded data removed]",
            "text/plain": [
              "<Figure size 1440x432 with 1 Axes>"
            ]
          },
          "metadata": {
            "needs_background": "light"
          },
          "output_type": "display_data"
        }
      ],
      "source": [
        "plt.figure(figsize = (20,6))\n",
        "sns.countplot(ECom_Data['product_main_category'])\n",
        "plt.title('Barplot:Product Category type')\n",
        "plt.xlabel('product_category_type')\n",
        "plt.ylabel('Category count')\n",
        "plt.xticks(rotation = 90)\n",
        "plt.show()"
      ]
    },
    {
      "cell_type": "markdown",
      "id": "13a5b355",
      "metadata": {
        "id": "13a5b355"
      },
      "source": [
        "### Ans 4 b)"
      ]
    },
    {
      "cell_type": "markdown",
      "id": "091264d4",
      "metadata": {
        "id": "091264d4"
      },
      "source": [
        "### The maximum orders were placed for Clothing whereas minimum orders were placed for Wearable Smart Devices."
      ]
    },
    {
      "cell_type": "markdown",
      "id": "4ea60c92",
      "metadata": {
        "id": "4ea60c92"
      },
      "source": [
        "### Ans 4 c)"
      ]
    },
    {
      "cell_type": "code",
      "execution_count": null,
      "id": "7f704116",
      "metadata": {
        "id": "7f704116",
        "outputId": "e818db20-7715-478f-a8c4-2d57fa50be63"
      },
      "outputs": [
        {
          "data": {
            "text/plain": [
              "Clothing                       2943\n",
              "Mobiles & Accessories          1084\n",
              "Automotive                     1001\n",
              "Home Decor & Festive Needs      727\n",
              "Computers                       558\n",
              "Name: product_main_category, dtype: int64"
            ]
          },
          "execution_count": 25,
          "metadata": {},
          "output_type": "execute_result"
        }
      ],
      "source": [
        "ECom_Data['product_main_category'].value_counts()[:5]"
      ]
    },
    {
      "cell_type": "markdown",
      "id": "a9f81605",
      "metadata": {
        "id": "a9f81605"
      },
      "source": [
        "<font color='blue'>\n",
        "    <font size = 5>\n",
        "    In E-commerce, both the retailers (here brands) and the company have to make profit to sustain in the business. \n",
        "    The E-Commerce company has the following rule for computing their own revenue: </font> \n",
        "    \n",
        "####     The company charges  \n",
        "####  (i) 25% on the orders having final price (discounted price) greater than 600\n",
        "\n",
        "#### (ii) 15% on the orders having final price (discounted price) greater than 350 but less than or equal to 600\n",
        "\n",
        "#### (iii) 10% on the orders having final price (discounted price) greater than 100 but less than or equal to 350\n",
        "\n",
        "#### (iv) Otherwise, 5% on the final price (discounted price)    </font> "
      ]
    },
    {
      "cell_type": "markdown",
      "id": "0f255fea",
      "metadata": {
        "id": "0f255fea"
      },
      "source": [
        "## Q 5. Find the Total Revenue generated by the E-Commerce company over all orders placed. (6 marks)\n",
        "\n",
        "#### Hint: Calculate revenue of E-commerce company using the conditions mentioned above and then do the total (sum) of all to get total Revenue. "
      ]
    },
    {
      "cell_type": "markdown",
      "id": "1f6b8028",
      "metadata": {
        "id": "1f6b8028"
      },
      "source": [
        "### Ans 5"
      ]
    },
    {
      "cell_type": "code",
      "execution_count": null,
      "id": "c62d888f",
      "metadata": {
        "id": "c62d888f",
        "outputId": "a4cb1e96-2f89-4546-c51b-d6225020243f"
      },
      "outputs": [
        {
          "data": {
            "text/html": [
              "<div>\n",
              "<style scoped>\n",
              "    .dataframe tbody tr th:only-of-type {\n",
              "        vertical-align: middle;\n",
              "    }\n",
              "\n",
              "    .dataframe tbody tr th {\n",
              "        vertical-align: top;\n",
              "    }\n",
              "\n",
              "    .dataframe thead th {\n",
              "        text-align: right;\n",
              "    }\n",
              "</style>\n",
              "<table border=\"1\" class=\"dataframe\">\n",
              "  <thead>\n",
              "    <tr style=\"text-align: right;\">\n",
              "      <th></th>\n",
              "      <th>Customer_uniq_id</th>\n",
              "      <th>Region</th>\n",
              "      <th>Order_Date</th>\n",
              "      <th>Expected_Delivery_Date</th>\n",
              "      <th>Delivered_Date</th>\n",
              "      <th>product_name</th>\n",
              "      <th>product_main_category</th>\n",
              "      <th>product_subcategory</th>\n",
              "      <th>product_category_filter</th>\n",
              "      <th>product_category_subfilter</th>\n",
              "      <th>product_unique ID</th>\n",
              "      <th>retail_price</th>\n",
              "      <th>discounted_price</th>\n",
              "      <th>product_rating</th>\n",
              "      <th>Brand</th>\n",
              "      <th>Revenue</th>\n",
              "    </tr>\n",
              "  </thead>\n",
              "  <tbody>\n",
              "    <tr>\n",
              "      <th>0</th>\n",
              "      <td>e71017e224688489edfe856f2308806d</td>\n",
              "      <td>East</td>\n",
              "      <td>24-10-2021</td>\n",
              "      <td>25-10-2021</td>\n",
              "      <td>25-10-2021</td>\n",
              "      <td>Indcrown Net Embroidered Semi-stitched Lehenga...</td>\n",
              "      <td>Clothing</td>\n",
              "      <td>Women's Clothing</td>\n",
              "      <td>Ethnic Wear</td>\n",
              "      <td>Fabric</td>\n",
              "      <td>FABEJX2NHNKCYHKA</td>\n",
              "      <td>999</td>\n",
              "      <td>699</td>\n",
              "      <td>4.0</td>\n",
              "      <td>Indcrown</td>\n",
              "      <td>174.75</td>\n",
              "    </tr>\n",
              "    <tr>\n",
              "      <th>1</th>\n",
              "      <td>6286847ee2da18f587503db49511c539</td>\n",
              "      <td>East</td>\n",
              "      <td>24-10-2021</td>\n",
              "      <td>25-10-2021</td>\n",
              "      <td>25-10-2021</td>\n",
              "      <td>Shopmania Music Band A5 Notebook Spiral Bound</td>\n",
              "      <td>Pens &amp; Stationery</td>\n",
              "      <td>Diaries &amp; Notebooks</td>\n",
              "      <td>Notebooks</td>\n",
              "      <td>Designer</td>\n",
              "      <td>DIAEJ6Z8BEDTGGYY</td>\n",
              "      <td>499</td>\n",
              "      <td>275</td>\n",
              "      <td>1.0</td>\n",
              "      <td>Shopmania</td>\n",
              "      <td>27.50</td>\n",
              "    </tr>\n",
              "    <tr>\n",
              "      <th>2</th>\n",
              "      <td>0686fec9b70e5039583a38119ca0c835</td>\n",
              "      <td>West</td>\n",
              "      <td>24-10-2021</td>\n",
              "      <td>25-10-2021</td>\n",
              "      <td>25-10-2021</td>\n",
              "      <td>Shopmania Music Band A5 Notebook Spiral Bound</td>\n",
              "      <td>Pens &amp; Stationery</td>\n",
              "      <td>Diaries &amp; Notebooks</td>\n",
              "      <td>Notebooks</td>\n",
              "      <td>Designer</td>\n",
              "      <td>DIAEJ6Z8KQFWDEGH</td>\n",
              "      <td>499</td>\n",
              "      <td>275</td>\n",
              "      <td>2.0</td>\n",
              "      <td>Shopmania</td>\n",
              "      <td>27.50</td>\n",
              "    </tr>\n",
              "    <tr>\n",
              "      <th>3</th>\n",
              "      <td>ea2406dc597bee2abb6b867fa668501f</td>\n",
              "      <td>West</td>\n",
              "      <td>24-10-2021</td>\n",
              "      <td>25-10-2021</td>\n",
              "      <td>25-10-2021</td>\n",
              "      <td>Tiara Diaries 2016-2017 Designer LA Kaarta \"TA...</td>\n",
              "      <td>Pens &amp; Stationery</td>\n",
              "      <td>Diaries &amp; Notebooks</td>\n",
              "      <td>Notebooks</td>\n",
              "      <td>Designer</td>\n",
              "      <td>DIAEJ8FGHZ3K86JU</td>\n",
              "      <td>1000</td>\n",
              "      <td>837</td>\n",
              "      <td>3.0</td>\n",
              "      <td>Tiara Diaries</td>\n",
              "      <td>209.25</td>\n",
              "    </tr>\n",
              "    <tr>\n",
              "      <th>4</th>\n",
              "      <td>5935ed077915347dc695744df68c565c</td>\n",
              "      <td>East</td>\n",
              "      <td>03-09-2021</td>\n",
              "      <td>04-09-2021</td>\n",
              "      <td>04-09-2021</td>\n",
              "      <td>KAJCI Embroidered Women's Waistcoat</td>\n",
              "      <td>Clothing</td>\n",
              "      <td>Women's Clothing</td>\n",
              "      <td>Formal Wear</td>\n",
              "      <td>Waistcoats</td>\n",
              "      <td>WSCEG2FYDYFDSVZ6</td>\n",
              "      <td>1200</td>\n",
              "      <td>699</td>\n",
              "      <td>5.0</td>\n",
              "      <td>KAJCI</td>\n",
              "      <td>174.75</td>\n",
              "    </tr>\n",
              "  </tbody>\n",
              "</table>\n",
              "</div>"
            ],
            "text/plain": [
              "                   Customer_uniq_id Region  Order_Date Expected_Delivery_Date  \\\n",
              "0  e71017e224688489edfe856f2308806d  East   24-10-2021             25-10-2021   \n",
              "1  6286847ee2da18f587503db49511c539  East   24-10-2021             25-10-2021   \n",
              "2  0686fec9b70e5039583a38119ca0c835   West  24-10-2021             25-10-2021   \n",
              "3  ea2406dc597bee2abb6b867fa668501f   West  24-10-2021             25-10-2021   \n",
              "4  5935ed077915347dc695744df68c565c  East   03-09-2021             04-09-2021   \n",
              "\n",
              "  Delivered_Date                                       product_name  \\\n",
              "0     25-10-2021  Indcrown Net Embroidered Semi-stitched Lehenga...   \n",
              "1     25-10-2021      Shopmania Music Band A5 Notebook Spiral Bound   \n",
              "2     25-10-2021      Shopmania Music Band A5 Notebook Spiral Bound   \n",
              "3     25-10-2021  Tiara Diaries 2016-2017 Designer LA Kaarta \"TA...   \n",
              "4     04-09-2021                KAJCI Embroidered Women's Waistcoat   \n",
              "\n",
              "  product_main_category    product_subcategory product_category_filter  \\\n",
              "0             Clothing       Women's Clothing             Ethnic Wear    \n",
              "1    Pens & Stationery    Diaries & Notebooks               Notebooks    \n",
              "2    Pens & Stationery    Diaries & Notebooks               Notebooks    \n",
              "3    Pens & Stationery    Diaries & Notebooks               Notebooks    \n",
              "4             Clothing       Women's Clothing             Formal Wear    \n",
              "\n",
              "  product_category_subfilter product_unique ID  retail_price  \\\n",
              "0                    Fabric   FABEJX2NHNKCYHKA           999   \n",
              "1                  Designer   DIAEJ6Z8BEDTGGYY           499   \n",
              "2                  Designer   DIAEJ6Z8KQFWDEGH           499   \n",
              "3                  Designer   DIAEJ8FGHZ3K86JU          1000   \n",
              "4                Waistcoats   WSCEG2FYDYFDSVZ6          1200   \n",
              "\n",
              "   discounted_price  product_rating          Brand  Revenue  \n",
              "0               699             4.0       Indcrown   174.75  \n",
              "1               275             1.0      Shopmania    27.50  \n",
              "2               275             2.0      Shopmania    27.50  \n",
              "3               837             3.0  Tiara Diaries   209.25  \n",
              "4               699             5.0          KAJCI   174.75  "
            ]
          },
          "execution_count": 26,
          "metadata": {},
          "output_type": "execute_result"
        }
      ],
      "source": [
        "#function to determine the net revenue\n",
        "def compute_rev(x):\n",
        "    if x > 600:\n",
        "        return x*0.25\n",
        "    elif x > 350:\n",
        "        return x*0.15\n",
        "    elif x > 100:\n",
        "        return x*0.10\n",
        "    else:\n",
        "        return x*0.05\n",
        "\n",
        "ECom_Data['Revenue'] = ECom_Data['discounted_price'].apply(compute_rev)\n",
        "ECom_Data.head()"
      ]
    },
    {
      "cell_type": "code",
      "execution_count": null,
      "id": "49d2309a",
      "metadata": {
        "id": "49d2309a",
        "outputId": "d3fa87c8-cd4f-463b-cfce-25c46fa6effb"
      },
      "outputs": [
        {
          "name": "stdout",
          "output_type": "stream",
          "text": [
            "The net revenue generated by the ECom company across all orders is 2217486.85 rupees\n"
          ]
        }
      ],
      "source": [
        "# get the total revenue and print it\n",
        "total_rev = ECom_Data['Revenue'].sum()\n",
        "print('The net revenue generated by the ECom company across all orders is', total_rev, 'rupees')"
      ]
    },
    {
      "cell_type": "markdown",
      "id": "9161ca8c",
      "metadata": {
        "id": "9161ca8c"
      },
      "source": [
        "<font color='blue'>\n",
        "    <font size = 5>\n",
        "    Now you need to find the revenue for each retailer (Brand)\n",
        "    </font>"
      ]
    },
    {
      "cell_type": "markdown",
      "id": "73dd23c3",
      "metadata": {
        "id": "73dd23c3"
      },
      "source": [
        "## Q6.Calculate the total BrandRevenue and list the top 10 Brand having maximum revenue in descending order (6 marks)\n",
        "#### Hint: Total BrandRevenue is BrandRevenue which is generated after all the deductions. Also, BrandRevenue is different from the E-Commerce company's revenue.\n",
        "#### Brand Revenue is the discounted price minus the Revenue (generated using the conditions given above Q5)\n"
      ]
    },
    {
      "cell_type": "markdown",
      "id": "3514fa79",
      "metadata": {
        "id": "3514fa79"
      },
      "source": [
        "### Ans 6"
      ]
    },
    {
      "cell_type": "code",
      "execution_count": null,
      "id": "437c69b5",
      "metadata": {
        "id": "437c69b5",
        "outputId": "f4c74631-a2f2-4170-c992-5993b6c8a5fe"
      },
      "outputs": [
        {
          "data": {
            "text/plain": [
              "Brand\n",
              "Allure Auto     498464.25\n",
              "GAGA            237390.00\n",
              "Slim            212062.60\n",
              "DailyObjects    181980.00\n",
              "Diviniti        143115.00\n",
              "Regular         126112.35\n",
              "Enthopia        123146.25\n",
              "TheLostPuppy    116595.35\n",
              "Asus             99241.50\n",
              "Springwel        88978.50\n",
              "Name: BrandRevenue, dtype: float64"
            ]
          },
          "execution_count": 29,
          "metadata": {},
          "output_type": "execute_result"
        }
      ],
      "source": [
        "ECom_Data['BrandRevenue']= ECom_Data['discounted_price']-ECom_Data['Revenue'] \n",
        "ECom_Data.groupby(['Brand'])['BrandRevenue'].sum().sort_values(ascending = False).head(10)"
      ]
    },
    {
      "cell_type": "markdown",
      "id": "2a2bbd83",
      "metadata": {
        "id": "2a2bbd83"
      },
      "source": [
        "<font color='blue'>\n",
        "    <font size = 5>\n",
        "Let us now investigate multiple features for each product to determine any pattern.\n",
        "</font>"
      ]
    },
    {
      "cell_type": "markdown",
      "id": "1aa1834b",
      "metadata": {
        "id": "1aa1834b"
      },
      "source": [
        "## Q 7. Compare prices for each product.\n",
        "\n",
        "## a)\tDraw boxplots of retail_price & discounted_price. (3 marks)\n",
        "\n",
        "## b)\t Are there any outliers? (Yes/No) (1mark)\n",
        "\n",
        "## c)\tCreate a scatterplot of retail_price (x-axis) and discounted_price (y-axis) (3 marks)\n"
      ]
    },
    {
      "cell_type": "markdown",
      "id": "d5aae861",
      "metadata": {
        "id": "d5aae861"
      },
      "source": [
        "### Ans 7 a)"
      ]
    },
    {
      "cell_type": "code",
      "execution_count": null,
      "id": "510fd4d0",
      "metadata": {
        "id": "510fd4d0",
        "outputId": "b0507a0c-498b-4936-ba6c-b18ce33a85bb"
      },
      "outputs": [
        {
          "data": {
            "image/png": "[encoded data removed]",
            "text/plain": [
              "<Figure size 432x288 with 1 Axes>"
            ]
          },
          "metadata": {
            "needs_background": "light"
          },
          "output_type": "display_data"
        }
      ],
      "source": [
        "sns.boxplot(data=ECom_Data, x='retail_price');"
      ]
    },
    {
      "cell_type": "code",
      "execution_count": null,
      "id": "add33c09",
      "metadata": {
        "id": "add33c09",
        "outputId": "6e554176-751b-4706-d883-9be0aea50da9"
      },
      "outputs": [
        {
          "data": {
            "image/png": "[encoded data removed]",
            "text/plain": [
              "<Figure size 432x288 with 1 Axes>"
            ]
          },
          "metadata": {
            "needs_background": "light"
          },
          "output_type": "display_data"
        }
      ],
      "source": [
        "sns.boxplot(data=ECom_Data, x='discounted_price');"
      ]
    },
    {
      "cell_type": "markdown",
      "id": "78b92e7c",
      "metadata": {
        "id": "78b92e7c"
      },
      "source": [
        "### Ans 7 b)"
      ]
    },
    {
      "cell_type": "markdown",
      "id": "18c8f4c6",
      "metadata": {
        "id": "18c8f4c6"
      },
      "source": [
        "Yes, there are outliers in the data"
      ]
    },
    {
      "cell_type": "markdown",
      "id": "0389c9b8",
      "metadata": {
        "id": "0389c9b8"
      },
      "source": [
        "### Ans 7 c)"
      ]
    },
    {
      "cell_type": "code",
      "execution_count": null,
      "id": "d8c44be9",
      "metadata": {
        "id": "d8c44be9",
        "outputId": "0595ad82-25ad-473d-b5a4-0a1e30ef621d"
      },
      "outputs": [
        {
          "data": {
            "image/png": "[encoded data removed]",
            "text/plain": [
              "<Figure size 432x288 with 1 Axes>"
            ]
          },
          "metadata": {
            "needs_background": "light"
          },
          "output_type": "display_data"
        }
      ],
      "source": [
        "sns.scatterplot(data=ECom_Data, x='retail_price', y='discounted_price');"
      ]
    },
    {
      "cell_type": "markdown",
      "id": "3bc47f55",
      "metadata": {
        "id": "3bc47f55"
      },
      "source": [
        "<font color='blue'>\n",
        "    <font size = 5>\n",
        "    The next steps will enable to study brand-level information.\n",
        "    </font>"
      ]
    },
    {
      "cell_type": "markdown",
      "id": "b9bd00f7",
      "metadata": {
        "id": "b9bd00f7"
      },
      "source": [
        "## Q 8. Create a new dataframe to include the Brand specific information as stated:\n",
        "## i.\ttotal number of orders placed per Brand\n",
        "## ii.\ttotal retail_price per Brand\n",
        "## iii.\ttotal discounted_price per Brand, and \n",
        "## iv.\ttotal BrandRevenue generated per Brand. \n",
        "\n",
        "## Also, draw a pairplot using these four features. (6 marks)\n"
      ]
    },
    {
      "cell_type": "markdown",
      "id": "8f83cea9",
      "metadata": {
        "id": "8f83cea9"
      },
      "source": [
        "### Ans 8"
      ]
    },
    {
      "cell_type": "code",
      "execution_count": null,
      "id": "ae749847",
      "metadata": {
        "id": "ae749847",
        "outputId": "c697f712-23cc-496a-8739-cbca3c06df13"
      },
      "outputs": [
        {
          "name": "stdout",
          "output_type": "stream",
          "text": [
            "Allure Auto        469\n",
            "Regular            299\n",
            "Slim               267\n",
            "TheLostPuppy       229\n",
            "Black              147\n",
            "                  ... \n",
            "Cello Furniture      1\n",
            "Schwarzkopf          1\n",
            "Flair                1\n",
            "Ruby                 1\n",
            "Ambika Lahenga       1\n",
            "Name: Brand, Length: 2571, dtype: int64\n"
          ]
        }
      ],
      "source": [
        "#Total number of orders placed per brand\n",
        "NoOfOrders=ECom_Data['Brand'].value_counts()\n",
        "print(NoOfOrders)"
      ]
    },
    {
      "cell_type": "code",
      "execution_count": null,
      "id": "0fe1f736",
      "metadata": {
        "id": "0fe1f736",
        "outputId": "2f0377be-cd38-4a89-a972-5d9a0c2d1e13"
      },
      "outputs": [
        {
          "name": "stdout",
          "output_type": "stream",
          "text": [
            "Brand\n",
            "1OAK              1698\n",
            "3A AUTOCARE     107059\n",
            "3D Mat            7250\n",
            "3kFactory          399\n",
            "4D               17500\n",
            "                 ...  \n",
            "youniqueshop       810\n",
            "zDelhi.com        4499\n",
            "zaidis             150\n",
            "zasmina           1400\n",
            " Tarkan           1999\n",
            "Name: retail_price, Length: 2571, dtype: int64\n"
          ]
        }
      ],
      "source": [
        "#total retail_price per brand\n",
        "RetailPriceBrandWise=ECom_Data.groupby(['Brand'])['retail_price'].sum()\n",
        "print(RetailPriceBrandWise)"
      ]
    },
    {
      "cell_type": "code",
      "execution_count": null,
      "id": "4a5f1ae6",
      "metadata": {
        "id": "4a5f1ae6",
        "outputId": "08b4ebdf-d626-48a1-ef39-3c667ebf18f1"
      },
      "outputs": [
        {
          "name": "stdout",
          "output_type": "stream",
          "text": [
            "Brand\n",
            "1OAK             1274\n",
            "3A AUTOCARE     74134\n",
            "3D Mat           6999\n",
            "3kFactory         174\n",
            "4D               7948\n",
            "                ...  \n",
            "youniqueshop      640\n",
            "zDelhi.com       3999\n",
            "zaidis            129\n",
            "zasmina           639\n",
            " Tarkan           349\n",
            "Name: discounted_price, Length: 2571, dtype: int64\n"
          ]
        }
      ],
      "source": [
        "# total discount_price per brand\n",
        "DiscountPriceBrandWise=ECom_Data.groupby(['Brand'])['discounted_price'].sum()\n",
        "print(DiscountPriceBrandWise)"
      ]
    },
    {
      "cell_type": "code",
      "execution_count": null,
      "id": "6594d795",
      "metadata": {
        "id": "6594d795"
      },
      "outputs": [],
      "source": [
        "#total BrandRevenue generated per brand. \n",
        "BrandRevenueFinal=ECom_Data.groupby(['Brand'])['BrandRevenue'].sum().sort_values(ascending = False)"
      ]
    },
    {
      "cell_type": "code",
      "execution_count": null,
      "id": "b1b1c873",
      "metadata": {
        "id": "b1b1c873",
        "outputId": "41ff5417-e2aa-43a6-e3db-6d2aa4423203"
      },
      "outputs": [
        {
          "data": {
            "text/html": [
              "<div>\n",
              "<style scoped>\n",
              "    .dataframe tbody tr th:only-of-type {\n",
              "        vertical-align: middle;\n",
              "    }\n",
              "\n",
              "    .dataframe tbody tr th {\n",
              "        vertical-align: top;\n",
              "    }\n",
              "\n",
              "    .dataframe thead th {\n",
              "        text-align: right;\n",
              "    }\n",
              "</style>\n",
              "<table border=\"1\" class=\"dataframe\">\n",
              "  <thead>\n",
              "    <tr style=\"text-align: right;\">\n",
              "      <th></th>\n",
              "      <th>RetailPriceBrandWise</th>\n",
              "      <th>NoOfOrders</th>\n",
              "      <th>DiscountPriceBrandWise</th>\n",
              "      <th>BrandRevenueFinal</th>\n",
              "    </tr>\n",
              "    <tr>\n",
              "      <th>Brand</th>\n",
              "      <th></th>\n",
              "      <th></th>\n",
              "      <th></th>\n",
              "      <th></th>\n",
              "    </tr>\n",
              "  </thead>\n",
              "  <tbody>\n",
              "    <tr>\n",
              "      <th>1OAK</th>\n",
              "      <td>1698</td>\n",
              "      <td>2</td>\n",
              "      <td>1274</td>\n",
              "      <td>1015.40</td>\n",
              "    </tr>\n",
              "    <tr>\n",
              "      <th>3A AUTOCARE</th>\n",
              "      <td>107059</td>\n",
              "      <td>41</td>\n",
              "      <td>74134</td>\n",
              "      <td>55647.90</td>\n",
              "    </tr>\n",
              "    <tr>\n",
              "      <th>3D Mat</th>\n",
              "      <td>7250</td>\n",
              "      <td>1</td>\n",
              "      <td>6999</td>\n",
              "      <td>5249.25</td>\n",
              "    </tr>\n",
              "    <tr>\n",
              "      <th>3kFactory</th>\n",
              "      <td>399</td>\n",
              "      <td>1</td>\n",
              "      <td>174</td>\n",
              "      <td>156.60</td>\n",
              "    </tr>\n",
              "    <tr>\n",
              "      <th>4D</th>\n",
              "      <td>17500</td>\n",
              "      <td>5</td>\n",
              "      <td>7948</td>\n",
              "      <td>5961.00</td>\n",
              "    </tr>\n",
              "    <tr>\n",
              "      <th>...</th>\n",
              "      <td>...</td>\n",
              "      <td>...</td>\n",
              "      <td>...</td>\n",
              "      <td>...</td>\n",
              "    </tr>\n",
              "    <tr>\n",
              "      <th>youniqueshop</th>\n",
              "      <td>810</td>\n",
              "      <td>1</td>\n",
              "      <td>640</td>\n",
              "      <td>480.00</td>\n",
              "    </tr>\n",
              "    <tr>\n",
              "      <th>zDelhi.com</th>\n",
              "      <td>4499</td>\n",
              "      <td>1</td>\n",
              "      <td>3999</td>\n",
              "      <td>2999.25</td>\n",
              "    </tr>\n",
              "    <tr>\n",
              "      <th>zaidis</th>\n",
              "      <td>150</td>\n",
              "      <td>1</td>\n",
              "      <td>129</td>\n",
              "      <td>116.10</td>\n",
              "    </tr>\n",
              "    <tr>\n",
              "      <th>zasmina</th>\n",
              "      <td>1400</td>\n",
              "      <td>2</td>\n",
              "      <td>639</td>\n",
              "      <td>575.10</td>\n",
              "    </tr>\n",
              "    <tr>\n",
              "      <th>Tarkan</th>\n",
              "      <td>1999</td>\n",
              "      <td>1</td>\n",
              "      <td>349</td>\n",
              "      <td>314.10</td>\n",
              "    </tr>\n",
              "  </tbody>\n",
              "</table>\n",
              "<p>2571 rows × 4 columns</p>\n",
              "</div>"
            ],
            "text/plain": [
              "              RetailPriceBrandWise  NoOfOrders  DiscountPriceBrandWise  \\\n",
              "Brand                                                                    \n",
              "1OAK                          1698           2                    1274   \n",
              "3A AUTOCARE                 107059          41                   74134   \n",
              "3D Mat                        7250           1                    6999   \n",
              "3kFactory                      399           1                     174   \n",
              "4D                           17500           5                    7948   \n",
              "...                            ...         ...                     ...   \n",
              "youniqueshop                   810           1                     640   \n",
              "zDelhi.com                    4499           1                    3999   \n",
              "zaidis                         150           1                     129   \n",
              "zasmina                       1400           2                     639   \n",
              " Tarkan                       1999           1                     349   \n",
              "\n",
              "              BrandRevenueFinal  \n",
              "Brand                            \n",
              "1OAK                    1015.40  \n",
              "3A AUTOCARE            55647.90  \n",
              "3D Mat                  5249.25  \n",
              "3kFactory                156.60  \n",
              "4D                      5961.00  \n",
              "...                         ...  \n",
              "youniqueshop             480.00  \n",
              "zDelhi.com              2999.25  \n",
              "zaidis                   116.10  \n",
              "zasmina                  575.10  \n",
              " Tarkan                  314.10  \n",
              "\n",
              "[2571 rows x 4 columns]"
            ]
          },
          "execution_count": 37,
          "metadata": {},
          "output_type": "execute_result"
        }
      ],
      "source": [
        "DF_New=pd.DataFrame(columns=['RetailPriceBrandWise','NoOfOrders','DiscountPriceBrandWise', 'BrandRevenueFinal'])\n",
        "DF_New['RetailPriceBrandWise']=RetailPriceBrandWise\n",
        "DF_New['NoOfOrders']=NoOfOrders\n",
        "DF_New['DiscountPriceBrandWise']=DiscountPriceBrandWise\n",
        "DF_New['BrandRevenueFinal']=BrandRevenueFinal\n",
        "DF_New"
      ]
    },
    {
      "cell_type": "code",
      "execution_count": null,
      "id": "30240126",
      "metadata": {
        "id": "30240126",
        "outputId": "3feb8e7c-6cd9-467e-862b-06d5becc1901"
      },
      "outputs": [
        {
          "data": {
            "text/plain": [
              "<seaborn.axisgrid.PairGrid at 0x2c8dd5f3400>"
            ]
          },
          "execution_count": 38,
          "metadata": {},
          "output_type": "execute_result"
        },
        {
          "data": {
            "text/plain": [
              "<Figure size 1152x720 with 0 Axes>"
            ]
          },
          "metadata": {},
          "output_type": "display_data"
        },
        {
          "data": {
            "image/png": "[encoded data removed]",
            "text/plain": [
              "<Figure size 720x720 with 20 Axes>"
            ]
          },
          "metadata": {
            "needs_background": "light"
          },
          "output_type": "display_data"
        }
      ],
      "source": [
        "plt.figure(figsize=(16,10))\n",
        "sns.pairplot(data=DF_New[['BrandRevenueFinal','RetailPriceBrandWise','DiscountPriceBrandWise','NoOfOrders']])"
      ]
    },
    {
      "cell_type": "markdown",
      "id": "ecec83f4",
      "metadata": {
        "id": "ecec83f4"
      },
      "source": [
        "<font color='blue'>\n",
        "    <font size = 5>\n",
        "    The E-Commerce company operate in multiple regions. It is important to understand its performance in each region.\n",
        "    </font>"
      ]
    },
    {
      "cell_type": "markdown",
      "id": "dd09b8aa",
      "metadata": {
        "id": "dd09b8aa"
      },
      "source": [
        "## Q 9.Compare performance regionwise\n",
        "\n",
        "## a)\tDraw a lineplot for the monthly Revenue of E-Commerce Company for each region separately.  (4 marks) \n",
        "\n",
        "## b)\tIdentify the best and the worst performing months for each region. (2 marks)\n",
        "\n",
        "#### Note: Only those days with actual orders(Order_Date) placed are present in the dataset. Assuming there were no orders on other days"
      ]
    },
    {
      "cell_type": "markdown",
      "id": "e6d64aea",
      "metadata": {
        "id": "e6d64aea"
      },
      "source": [
        "### Ans 9 a)"
      ]
    },
    {
      "cell_type": "code",
      "execution_count": null,
      "id": "64e2c32b",
      "metadata": {
        "id": "64e2c32b",
        "outputId": "cf68a014-6455-42d9-9932-22326ac6e5c9"
      },
      "outputs": [
        {
          "data": {
            "image/png": "[encoded data removed]",
            "text/plain": [
              "<Figure size 1080x720 with 1 Axes>"
            ]
          },
          "metadata": {
            "needs_background": "light"
          },
          "output_type": "display_data"
        }
      ],
      "source": [
        "ECom_Data['Order_Date'] = pd.to_datetime(ECom_Data['Order_Date'])\n",
        "ECom_Data['month'] = ECom_Data['Order_Date'].dt.strftime(\"%Y-%m\")\n",
        "plt.figure(figsize=(15,10)); \n",
        "plt.title('Regionwise Monthly Company Revenue')\n",
        "ECom_Data.sort_values(by = \"month\", ascending=True, inplace=True) \n",
        "sns.lineplot(data = ECom_Data, x = 'month', ｙ = 'Revenue', estimator = sum, hue=\"Region\",ci=False)\n",
        "plt.xticks(np.arange(0,13,1));"
      ]
    },
    {
      "cell_type": "markdown",
      "id": "dac59dc4",
      "metadata": {
        "id": "dac59dc4"
      },
      "source": [
        "### Ans 9 b)"
      ]
    },
    {
      "cell_type": "markdown",
      "id": "b6d5734d",
      "metadata": {
        "id": "b6d5734d"
      },
      "source": [
        "North region outperformed in the month of Dec 2020 and March 2021, however it generated least Revenue in July month\n",
        "\n",
        "East region outperformed in the month of Dec 2020 and March 2021, however it generated least Revenue in July month\n",
        "\n",
        "West region outperformed in the month of Dec 2020 and March 2021, however it generated least Revenue in July month\n",
        "\n",
        "South region outperformed in the month of Dec 2020 and March 2021, however it generated least Revenue in May month"
      ]
    },
    {
      "cell_type": "markdown",
      "id": "dcb8d39f",
      "metadata": {
        "id": "dcb8d39f"
      },
      "source": [
        "<font color='blue'>\n",
        "    <font size = 5>\n",
        "    Congratulations! You have learnt how to approach a complex data and extract information out of it. \n",
        "    </font>"
      ]
    }
  ],
  "metadata": {
    "kernelspec": {
      "display_name": "Python 3 (ipykernel)",
      "language": "python",
      "name": "python3"
    },
    "language_info": {
      "codemirror_mode": {
        "name": "ipython",
        "version": 3
      },
      "file_extension": ".py",
      "mimetype": "text/x-python",
      "name": "python",
      "nbconvert_exporter": "python",
      "pygments_lexer": "ipython3",
      "version": "3.9.7"
    },
    "colab": {
      "provenance": [],
      "collapsed_sections": [
        "0375fa47",
        "5e63573c",
        "792002eb",
        "e0e7e762",
        "e6159f6a",
        "40fb5e90",
        "beb3f83f",
        "814bde62",
        "13a5b355",
        "091264d4",
        "a9f81605",
        "3514fa79"
      ]
    }
  },
  "nbformat": 4,
  "nbformat_minor": 5
}